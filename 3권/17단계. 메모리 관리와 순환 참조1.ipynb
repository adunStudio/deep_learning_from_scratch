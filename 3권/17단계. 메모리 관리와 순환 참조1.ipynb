{
 "cells": [
  {
   "cell_type": "code",
   "execution_count": null,
   "metadata": {
    "collapsed": true
   },
   "outputs": [],
   "source": [
    "class obj:\n",
    "    pass\n",
    "\n",
    "def f(x):\n",
    "    print(x)\n",
    "\n",
    "a = obj() # 변수에 대입: 참조 카운트 1\n",
    "f(a)      # 함수에 전달: 함수 안에서는 참조 카운트 2\n",
    "# 함수 완료: 빠져 나오면 참조 카운트 1\n",
    "a = None  # 대입 해제: 참조 카운트 0"
   ]
  },
  {
   "cell_type": "code",
   "execution_count": null,
   "outputs": [],
   "source": [
    "a = obj()\n",
    "b = obj()\n",
    "c = obj()\n",
    "\n",
    "a.b = b\n",
    "b.c = c\n",
    "\n",
    "a = b = c = None"
   ],
   "metadata": {
    "collapsed": false
   }
  },
  {
   "cell_type": "markdown",
   "source": [
    "### 순환 참조 예제"
   ],
   "metadata": {
    "collapsed": false
   }
  },
  {
   "cell_type": "code",
   "execution_count": null,
   "outputs": [],
   "source": [
    "a = obj()\n",
    "b = obj()\n",
    "c = obj()\n",
    "\n",
    "a.b = b\n",
    "b.c = c\n",
    "c.a = a\n",
    "\n",
    "a = b = c = None"
   ],
   "metadata": {
    "collapsed": false
   }
  },
  {
   "cell_type": "markdown",
   "source": [
    "### weakref 모듈"
   ],
   "metadata": {
    "collapsed": false
   }
  },
  {
   "cell_type": "code",
   "execution_count": 10,
   "outputs": [
    {
     "name": "stdout",
     "output_type": "stream",
     "text": [
      "<weakref at 0x14bd39170; to 'numpy.ndarray' at 0x1049147b0>\n",
      "[1 2 3]\n",
      "<weakref at 0x14bd39170; dead>\n",
      "None\n"
     ]
    }
   ],
   "source": [
    "import weakref\n",
    "import numpy as np\n",
    "\n",
    "a = np.array([1, 2, 3])\n",
    "b = weakref.ref(a)\n",
    "\n",
    "print(b)\n",
    "print(b())\n",
    "\n",
    "a = None\n",
    "print(b)\n",
    "print(b())"
   ],
   "metadata": {
    "collapsed": false
   }
  }
 ],
 "metadata": {
  "kernelspec": {
   "display_name": "Python 3",
   "language": "python",
   "name": "python3"
  },
  "language_info": {
   "codemirror_mode": {
    "name": "ipython",
    "version": 2
   },
   "file_extension": ".py",
   "mimetype": "text/x-python",
   "name": "python",
   "nbconvert_exporter": "python",
   "pygments_lexer": "ipython2",
   "version": "2.7.6"
  }
 },
 "nbformat": 4,
 "nbformat_minor": 0
}
