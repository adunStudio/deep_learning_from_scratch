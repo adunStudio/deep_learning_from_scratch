{
 "cells": [
  {
   "cell_type": "markdown",
   "source": [
    "# Config 클래스를 활용한 모드 전환"
   ],
   "metadata": {
    "collapsed": false
   }
  },
  {
   "cell_type": "code",
   "execution_count": 82,
   "outputs": [],
   "source": [
    "class Config:\n",
    "    enable_backprop = True"
   ],
   "metadata": {
    "collapsed": false
   }
  },
  {
   "cell_type": "code",
   "execution_count": 83,
   "outputs": [],
   "source": [
    "import contextlib\n",
    "\n",
    "@contextlib.contextmanager\n",
    "def using_config(name, value):\n",
    "    old_value = getattr(Config, name)\n",
    "    setattr(Config, name, value)\n",
    "    try:\n",
    "        yield\n",
    "    finally:\n",
    "        setattr(Config, name, old_value)"
   ],
   "metadata": {
    "collapsed": false
   }
  },
  {
   "cell_type": "code",
   "execution_count": 84,
   "outputs": [],
   "source": [
    "def no_grad():\n",
    "    return using_config('enable_backprop', False)"
   ],
   "metadata": {
    "collapsed": false
   }
  },
  {
   "cell_type": "code",
   "execution_count": 85,
   "outputs": [],
   "source": [
    "import numpy as np"
   ],
   "metadata": {
    "collapsed": false
   }
  },
  {
   "cell_type": "code",
   "execution_count": 86,
   "outputs": [],
   "source": [
    "def as_array(x):\n",
    "    if np.isscalar(x):\n",
    "        return np.array(x)\n",
    "    return x\n",
    "\n",
    "def as_variable(obj):\n",
    "    if isinstance(obj, Variable):\n",
    "        return obj\n",
    "    return Variable(obj)"
   ],
   "metadata": {
    "collapsed": false
   }
  },
  {
   "cell_type": "code",
   "execution_count": 87,
   "outputs": [],
   "source": [
    "class Variable:\n",
    "    __array_priority__ = 200 # 연산자 우선순위\n",
    "\n",
    "    def __init__(self, data, name=None):\n",
    "        if data is not None:\n",
    "            if not isinstance(data, np.ndarray):\n",
    "                raise TypeError(f'{type(data)}은(는) 지원하지 않습니다.')\n",
    "\n",
    "        self.data = data\n",
    "        self.name = name\n",
    "        self.grad = None\n",
    "        self.creator = None\n",
    "        self.generation = 0\n",
    "\n",
    "    def set_creator(self, func):\n",
    "        self.creator = func\n",
    "        self.generation = func.generation + 1 # 세대를 기록한다(부모 세대 + 1).\n",
    "\n",
    "    def cleargrad(self):\n",
    "        self.grad = None\n",
    "\n",
    "    def backward(self, retain_grad = False):\n",
    "        if self.grad is None:\n",
    "            self.grad = np.ones_like(self.data)\n",
    "\n",
    "        funcs = []\n",
    "        seen_set = set()\n",
    "\n",
    "        def add_func(f):\n",
    "            if f not in seen_set:\n",
    "                funcs.append(f)\n",
    "                seen_set.add(f)\n",
    "                funcs.sort(key=lambda x: x.generation)\n",
    "\n",
    "        add_func(self.creator)\n",
    "\n",
    "        while funcs:\n",
    "            f = funcs.pop() # 함수를 가져온다.\n",
    "\n",
    "            # 수정 전: gys = [output.grad for output in f.outputs] # ❶\n",
    "            gys = [output().grad for output in f.outputs] # ❶\n",
    "            gxs = f.backward(*gys) # ❷\n",
    "            if not isinstance(gxs, tuple): # ❸\n",
    "                gxs = (gxs,)\n",
    "\n",
    "            for x, gx in zip(f.inputs, gxs): # ❹\n",
    "                if x.grad is None:\n",
    "                    x.grad = gx\n",
    "                else:\n",
    "                    x.grad = x.grad + gx\n",
    "                    # +=을 쓰지 않는 이유: 값을 덮어쓰는게(인플레이스) 아니라 복사하게끔 + 사용\n",
    "                    # 인플레이스 연산:  연산에 대한 결괏값을 새로운 변수에 저장하는 것이 아닌\n",
    "                    # 기존 데이터를 대체하는 것을 의미\n",
    "                if x.creator is not None:\n",
    "                    add_func(x.creator)\n",
    "\n",
    "            if not retain_grad:\n",
    "                for y in f.outputs:\n",
    "                    y().grad = None # y는 약한 참조(weakref)\n",
    "\n",
    "\n",
    "    @property\n",
    "    def shape(self):\n",
    "        return self.data.shape\n",
    "\n",
    "    @property\n",
    "    def ndim(self):\n",
    "        return self.data.ndim\n",
    "\n",
    "    @property\n",
    "    def size(self):\n",
    "        return self.data.size\n",
    "\n",
    "    @property\n",
    "    def dtype(self):\n",
    "        return self.data.dtype\n",
    "\n",
    "    def __len__(self):\n",
    "        return len(self.data)\n",
    "\n",
    "    def __repr__(self):\n",
    "        if self.data is None:\n",
    "            return 'variable(None)'\n",
    "        p = str(self.data).replace('\\n', '\\n' + ' ' * 9)\n",
    "        return f'variable({p})'\n",
    "\n",
    "    def __mul__(self, other):\n",
    "        return mul(self, other)"
   ],
   "metadata": {
    "collapsed": false
   }
  },
  {
   "cell_type": "code",
   "execution_count": 88,
   "outputs": [],
   "source": [
    "import weakref\n",
    "\n",
    "class Function:\n",
    "    def __call__(self, *inputs):\n",
    "        inputs = [as_variable(x) for x in inputs]\n",
    "\n",
    "        xs = [x.data for x in inputs]\n",
    "        ys = self.forward(*xs)        # ❶ 별표를 붙여 언팩\n",
    "        if not isinstance(ys, tuple): # ❷ 튜플이 아닌 경우 추가 지원\n",
    "            ys = (ys,)\n",
    "\n",
    "        outputs = [Variable(as_array(y)) for y in ys]  # Variable 형태로 되돌린다.\n",
    "\n",
    "        if Config.enable_backprop:\n",
    "            self.generation = max([x.generation for x in inputs]) # 세대 설정\n",
    "            for output in outputs:\n",
    "                output.set_creator(self) # 출력 변수에 창조자를 설정한다.\n",
    "\n",
    "            self.inputs  = inputs       # 입력 변수를 기억(보관)한다.\n",
    "            self.outputs = [weakref.ref(output) for output in outputs]\n",
    "\n",
    "        return outputs if len(outputs) > 1 else outputs[0]\n",
    "\n",
    "    def forward(self, xs):\n",
    "        raise NotImplementedError()\n",
    "\n",
    "    def backward(self, gys):\n",
    "        raise NotImplementedError()"
   ],
   "metadata": {
    "collapsed": false
   }
  },
  {
   "cell_type": "code",
   "execution_count": 89,
   "outputs": [],
   "source": [
    "class Square(Function):\n",
    "    def forward(self, x):\n",
    "        return x ** 2\n",
    "\n",
    "    def backward(self, gy):\n",
    "        x = self.inputs[0].data\n",
    "        gx = 2 * x * gy\n",
    "        return gx\n",
    "\n",
    "def square(x):\n",
    "    f = Square()\n",
    "    return f(x)"
   ],
   "metadata": {
    "collapsed": false
   }
  },
  {
   "cell_type": "code",
   "execution_count": 90,
   "outputs": [],
   "source": [
    "class Exp(Function):\n",
    "    def forward(self, x):\n",
    "        return np.exp(x)\n",
    "\n",
    "    def backward(self, gy):\n",
    "        x = self.inputs[0].data\n",
    "        gx = np.exp(x) * gy\n",
    "        return gx\n",
    "\n",
    "def exp(x):\n",
    "    f = Exp()\n",
    "    return f(x)"
   ],
   "metadata": {
    "collapsed": false
   }
  },
  {
   "cell_type": "code",
   "execution_count": 91,
   "outputs": [],
   "source": [
    "class Add(Function):\n",
    "    def forward(self, x0, x1):\n",
    "        y = x0 + x1\n",
    "        return y\n",
    "\n",
    "    def backward(self, gy):\n",
    "        return gy, gy\n",
    "\n",
    "def add(x0, x1):\n",
    "    x1 = as_array(x1)\n",
    "    f = Add()\n",
    "    return f(x0, x1)\n",
    "\n",
    "Variable.__add__  = add\n",
    "Variable.__radd__ = add"
   ],
   "metadata": {
    "collapsed": false
   }
  },
  {
   "cell_type": "code",
   "execution_count": 92,
   "outputs": [],
   "source": [
    "class Sub(Function):\n",
    "    def forward(self, x0, x1):\n",
    "        y = x0 - x1\n",
    "        return y\n",
    "\n",
    "    def backward(self, gy):\n",
    "        return gy, -gy\n",
    "\n",
    "def sub(x0, x1):\n",
    "    x1 = as_array(x1)\n",
    "    f = Sub()\n",
    "    return f(x0, x1)\n",
    "\n",
    "def rsub(x0, x1):\n",
    "    x1 = as_array(x1)\n",
    "    f = Sub()\n",
    "    return f(x1, x0)\n",
    "\n",
    "Variable.__sub__  = sub\n",
    "Variable.__rsub__ = rsub"
   ],
   "metadata": {
    "collapsed": false
   }
  },
  {
   "cell_type": "code",
   "execution_count": 93,
   "outputs": [],
   "source": [
    "class Mul(Function):\n",
    "    def forward(self, x0, x1):\n",
    "        y = x0 * x1\n",
    "        return y\n",
    "\n",
    "    def backward(self, gy):\n",
    "        x0, x1 = self.inputs[0].data, self.inputs[1].data\n",
    "        return gy * x1, gy * x0\n",
    "\n",
    "def mul(x0, x1):\n",
    "    x1 = as_array(x1)\n",
    "    f = Mul()\n",
    "    return f(x0, x1)\n",
    "\n",
    "Variable.__mul__  = mul\n",
    "Variable.__rmul__ = mul"
   ],
   "metadata": {
    "collapsed": false
   }
  },
  {
   "cell_type": "code",
   "execution_count": 94,
   "outputs": [],
   "source": [
    "class Div(Function):\n",
    "    def forward(self, x0, x1):\n",
    "        y = x0 / x1\n",
    "        return y\n",
    "\n",
    "    def backward(self, gy):\n",
    "        x0, x1 = self.inputs[0].data, self.inputs[1].data\n",
    "        gx0 = gy / x1\n",
    "        gx1 = gy * (-x0 / x1 ** 2)\n",
    "        return gx0, gx1\n",
    "\n",
    "def div(x0, x1):\n",
    "    x1 = as_array(x1)\n",
    "    f = Div()\n",
    "    return f(x0, x1)\n",
    "\n",
    "def rdiv(x0, x1):\n",
    "    x1 = as_array(x1)\n",
    "    f = Div()\n",
    "    return f(x1, x0)\n",
    "\n",
    "Variable.__truediv__  = div\n",
    "Variable.__rtruediv__ = rdiv"
   ],
   "metadata": {
    "collapsed": false
   }
  },
  {
   "cell_type": "code",
   "execution_count": 95,
   "outputs": [],
   "source": [
    "class Pow(Function):\n",
    "    def __init__(self, c):\n",
    "        self.c = c\n",
    "\n",
    "    def forward(self, x):\n",
    "        y = x ** self.c\n",
    "        return y\n",
    "\n",
    "    def backward(self, gy):\n",
    "        x = self.inputs[0].data\n",
    "        c = self.c\n",
    "        gx = c * x ** (c - 1) * gy\n",
    "        return gx\n",
    "\n",
    "def pow(x, c):\n",
    "    f = Pow(c)\n",
    "    return f(x)\n",
    "\n",
    "Variable.__pow__ = pow"
   ],
   "metadata": {
    "collapsed": false
   }
  },
  {
   "cell_type": "code",
   "execution_count": 96,
   "outputs": [],
   "source": [
    "class Neg(Function):\n",
    "    def forward(self, x):\n",
    "        return -x\n",
    "\n",
    "    def backward(self, gy):\n",
    "        return -gy\n",
    "\n",
    "def neg(x):\n",
    "    f = Neg()\n",
    "    return f(x)\n",
    "\n",
    "Variable.__neg__  = neg"
   ],
   "metadata": {
    "collapsed": false
   }
  },
  {
   "cell_type": "code",
   "execution_count": 97,
   "outputs": [
    {
     "name": "stdout",
     "output_type": "stream",
     "text": [
      "variable(-2.0)\n"
     ]
    }
   ],
   "source": [
    "x = Variable(np.array(2.0))\n",
    "y = -x # 부호를 바꾼다.\n",
    "print(y)"
   ],
   "metadata": {
    "collapsed": false
   }
  },
  {
   "cell_type": "code",
   "execution_count": 98,
   "outputs": [
    {
     "name": "stdout",
     "output_type": "stream",
     "text": [
      "variable(0.0)\n",
      "variable(1.0)\n"
     ]
    }
   ],
   "source": [
    "x = Variable(np.array(2.0))\n",
    "y1 = 2.0 - x\n",
    "y2 = x - 1.0\n",
    "print(y1)\n",
    "print(y2)"
   ],
   "metadata": {
    "collapsed": false
   }
  },
  {
   "cell_type": "code",
   "execution_count": 99,
   "outputs": [
    {
     "name": "stdout",
     "output_type": "stream",
     "text": [
      "variable(8.0)\n"
     ]
    }
   ],
   "source": [
    "x = Variable(np.array(2.0))\n",
    "y = x ** 3\n",
    "print(y)"
   ],
   "metadata": {
    "collapsed": false
   }
  }
 ],
 "metadata": {
  "kernelspec": {
   "display_name": "Python 3",
   "language": "python",
   "name": "python3"
  },
  "language_info": {
   "codemirror_mode": {
    "name": "ipython",
    "version": 2
   },
   "file_extension": ".py",
   "mimetype": "text/x-python",
   "name": "python",
   "nbconvert_exporter": "python",
   "pygments_lexer": "ipython2",
   "version": "2.7.6"
  }
 },
 "nbformat": 4,
 "nbformat_minor": 0
}
