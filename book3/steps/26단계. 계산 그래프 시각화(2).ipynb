{
 "cells": [
  {
   "cell_type": "code",
   "execution_count": 1,
   "metadata": {
    "collapsed": true
   },
   "outputs": [
    {
     "name": "stdout",
     "output_type": "stream",
     "text": [
      "digraph g {\n",
      "4363208304 [label=\"y\", color=orange, style=filled]\n",
      "4363208064 [label=\"Add\", color=lightblue, style=filled, shape=box]\n",
      "4363207920 -> 4363208064\n",
      "4363222272 -> 4363208064\n",
      "4363208064 -> 4363208304\n",
      "4363207920 [label=\"x0\", color=orange, style=filled]\n",
      "4363222272 [label=\"x1\", color=orange, style=filled]\n",
      "}\n"
     ]
    }
   ],
   "source": [
    "import numpy as np\n",
    "from book3.dezero import Variable\n",
    "from book3.dezero.utils import get_dot_graph\n",
    "\n",
    "x0 = Variable(np.array(1.0))\n",
    "x1 = Variable(np.array(1.0))\n",
    "y = x0 + x1 # 어떤 계산\n",
    "\n",
    "# 변수 이름 지정\n",
    "x0.name = 'x0'\n",
    "x1.name = 'x1'\n",
    "y.name = 'y'\n",
    "\n",
    "txt = get_dot_graph(y, verbose=False)\n",
    "print(txt)\n",
    "\n",
    "# dot 파일로 저장\n",
    "with open('sample.dot', 'w') as o:\n",
    "    o.write(txt)"
   ]
  },
  {
   "cell_type": "code",
   "execution_count": 1,
   "outputs": [
    {
     "name": "stdout",
     "output_type": "stream",
     "text": [
      "4420759568 [label=\"x\", color=orange, style=filled]\n",
      "\n",
      "4420759568 [label=\"x: (2, 3) float64\", color=orange, style=filled]\n",
      "\n"
     ]
    }
   ],
   "source": [
    "import numpy as np\n",
    "from book3.dezero import Variable\n",
    "from book3.dezero.utils import _dot_var\n",
    "\n",
    "# 사용 예\n",
    "x = Variable(np.random.randn(2, 3))\n",
    "x.name = 'x'\n",
    "print(_dot_var(x))\n",
    "print(_dot_var(x, verbose=True))"
   ],
   "metadata": {
    "collapsed": false
   }
  },
  {
   "cell_type": "code",
   "execution_count": 1,
   "outputs": [
    {
     "name": "stdout",
     "output_type": "stream",
     "text": [
      "4709583216 [label=\"Add\", color=lightblue, style=filled, shape=box]\n",
      "4709219728 -> 4709583216\n",
      "4709581488 -> 4709583216\n",
      "4709583216 -> 4709584224\n",
      "\n"
     ]
    }
   ],
   "source": [
    "import numpy as np\n",
    "from book3.dezero import Variable\n",
    "from book3.dezero.utils import _dot_var\n",
    "from book3.dezero.utils import _dot_func\n",
    "\n",
    "x0 = Variable(np.array(1.0))\n",
    "x1 = Variable(np.array(1.0))\n",
    "y = x0 + x1 # 어떤 계산\n",
    "txt = _dot_func(y.creator)\n",
    "print(txt)"
   ],
   "metadata": {
    "collapsed": false
   }
  },
  {
   "cell_type": "code",
   "execution_count": null,
   "outputs": [],
   "source": [
    "import numpy as np\n",
    "from book3.dezero import Variable\n",
    "from book3.dezero.utils import plot_dot_graph\n",
    "\n",
    "x0 = Variable(np.array(1.0))\n",
    "x1 = Variable(np.array(1.0))\n",
    "y = x0 + x1 # 어떤 계산\n",
    "\n",
    "# 변수 이름 지정\n",
    "x0.name = 'x0'\n",
    "x1.name = 'x1'\n",
    "y.name = 'y'\n",
    "\n",
    "plot_dot_graph(y)"
   ],
   "metadata": {
    "collapsed": false,
    "pycharm": {
     "is_executing": true
    }
   }
  },
  {
   "cell_type": "code",
   "execution_count": 1,
   "outputs": [],
   "source": [
    "import numpy as np\n",
    "from book3.dezero import Variable\n",
    "from book3.dezero.utils import plot_dot_graph\n",
    "\n",
    "def goldstein(x, y):\n",
    "    z = (1 + (x + y + 1)**2 * (19 - 14*x + 3*x**2 - 14*y + 6*x*y + 3*y**2)) * \\\n",
    "        (30 + (2*x - 3*y)**2 * (18 - 32*x + 12*x**2 + 48*y - 36*x*y + 27*y**2))\n",
    "    return z\n",
    "\n",
    "x = Variable(np.array(1.0))\n",
    "y = Variable(np.array(1.0))\n",
    "z = goldstein(x, y)\n",
    "z.backward()\n",
    "\n",
    "x.name = 'x'\n",
    "y.name = 'y'\n",
    "z.name = 'z'\n",
    "plot_dot_graph(z, verbose=False, to_file='goldstein.png')"
   ],
   "metadata": {
    "collapsed": false
   }
  }
 ],
 "metadata": {
  "kernelspec": {
   "display_name": "Python 3",
   "language": "python",
   "name": "python3"
  },
  "language_info": {
   "codemirror_mode": {
    "name": "ipython",
    "version": 2
   },
   "file_extension": ".py",
   "mimetype": "text/x-python",
   "name": "python",
   "nbconvert_exporter": "python",
   "pygments_lexer": "ipython2",
   "version": "2.7.6"
  }
 },
 "nbformat": 4,
 "nbformat_minor": 0
}
