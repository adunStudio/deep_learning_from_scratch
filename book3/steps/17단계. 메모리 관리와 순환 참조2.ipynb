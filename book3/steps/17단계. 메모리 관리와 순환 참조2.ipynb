{
 "cells": [
  {
   "cell_type": "code",
   "execution_count": 21,
   "metadata": {
    "collapsed": true
   },
   "outputs": [],
   "source": [
    "import numpy as np"
   ]
  },
  {
   "cell_type": "code",
   "execution_count": 22,
   "outputs": [],
   "source": [
    "def as_array(x):\n",
    "    if np.isscalar(x):\n",
    "        return np.array(x)\n",
    "    return x"
   ],
   "metadata": {
    "collapsed": false
   }
  },
  {
   "cell_type": "code",
   "execution_count": 23,
   "outputs": [],
   "source": [
    "class Variable:\n",
    "    def __init__(self, data):\n",
    "        if data is not None:\n",
    "            if not isinstance(data, np.ndarray):\n",
    "                raise TypeError(f'{type(data)}은(는) 지원하지 않습니다.')\n",
    "\n",
    "        self.data = data\n",
    "        self.grad = None\n",
    "        self.creator = None\n",
    "        self.generation = 0 # 세대 수를 기록하는 변수\n",
    "\n",
    "    def set_creator(self, func):\n",
    "        self.creator = func\n",
    "        self.generation = func.generation + 1 # 세대를 기록한다(부모 세대 + 1).\n",
    "\n",
    "    def cleargrad(self):\n",
    "        self.grad = None\n",
    "\n",
    "    def backward(self):\n",
    "        if self.grad is None:\n",
    "            self.grad = np.ones_like(self.data)\n",
    "\n",
    "        funcs = []\n",
    "        seen_set = set()\n",
    "\n",
    "        def add_func(f):\n",
    "            if f not in seen_set:\n",
    "                funcs.append(f)\n",
    "                seen_set.add(f)\n",
    "                funcs.sort(key=lambda x: x.generation)\n",
    "\n",
    "        add_func(self.creator)\n",
    "\n",
    "        while funcs:\n",
    "            f = funcs.pop() # 함수를 가져온다.\n",
    "\n",
    "            # 수정 전: gys = [output.grad for output in f.outputs] # ❶\n",
    "            gys = [output().grad for output in f.outputs] # ❶\n",
    "            gxs = f.backward(*gys) # ❷\n",
    "            if not isinstance(gxs, tuple): # ❸\n",
    "                gxs = (gxs,)\n",
    "\n",
    "            for x, gx in zip(f.inputs, gxs): # ❹\n",
    "                if x.grad is None:\n",
    "                    x.grad = gx\n",
    "                else:\n",
    "                    x.grad = x.grad + gx\n",
    "                    # +=을 쓰지 않는 이유: 값을 덮어쓰는게(인플레이스) 아니라 복사하게끔 + 사용\n",
    "                    # 인플레이스 연산:  연산에 대한 결괏값을 새로운 변수에 저장하는 것이 아닌\n",
    "                    # 기존 데이터를 대체하는 것을 의미\n",
    "                if x.creator is not None:\n",
    "                    add_func(x.creator) # 수정 전: funcs.append(x.creator)"
   ],
   "metadata": {
    "collapsed": false
   }
  },
  {
   "cell_type": "code",
   "execution_count": 24,
   "outputs": [],
   "source": [
    "import weakref\n",
    "\n",
    "class Function:\n",
    "    def __call__(self, *inputs):\n",
    "        xs = [x.data for x in inputs]\n",
    "        ys = self.forward(*xs)        # ❶ 별표를 붙여 언팩\n",
    "        if not isinstance(ys, tuple): # ❷ 튜플이 아닌 경우 추가 지원\n",
    "            ys = (ys,)\n",
    "\n",
    "        self.generation = max([x.generation for x in inputs])\n",
    "\n",
    "        outputs = [Variable(as_array(y)) for y in ys]  # Variable 형태로 되돌린다.\n",
    "\n",
    "        for output in outputs:\n",
    "            output.set_creator(self) # 출력 변수에 창조자를 설정한다.\n",
    "\n",
    "        self.inputs  = inputs       # 입력 변수를 기억(보관)한다.\n",
    "        self.outputs = [weakref.ref(output) for output in outputs]\n",
    "\n",
    "        return outputs if len(outputs) > 1 else outputs[0]\n",
    "\n",
    "    def forward(self, xs):\n",
    "        raise NotImplementedError()\n",
    "\n",
    "    def backward(self, gys):\n",
    "        raise NotImplementedError()"
   ],
   "metadata": {
    "collapsed": false
   }
  },
  {
   "cell_type": "code",
   "execution_count": 25,
   "outputs": [],
   "source": [
    "class Square(Function):\n",
    "    def forward(self, x):\n",
    "        return x ** 2\n",
    "\n",
    "    def backward(self, gy):\n",
    "        x = self.inputs[0].data\n",
    "        gx = 2 * x * gy\n",
    "        return gx\n",
    "\n",
    "class Exp(Function):\n",
    "    def forward(self, x):\n",
    "        return np.exp(x)\n",
    "\n",
    "    def backward(self, gy):\n",
    "        x = self.inputs[0].data\n",
    "        gx = np.exp(x) * gy\n",
    "        return gx\n",
    "\n",
    "class Add(Function):\n",
    "    def forward(self, x0, x1):\n",
    "        y = x0 + x1\n",
    "        return y\n",
    "\n",
    "    def backward(self, gy):\n",
    "        return gy, gy"
   ],
   "metadata": {
    "collapsed": false
   }
  },
  {
   "cell_type": "code",
   "execution_count": 26,
   "outputs": [],
   "source": [
    "def square(x):\n",
    "    f = Square()\n",
    "    return f(x)\n",
    "\n",
    "def exp(x):\n",
    "    f = Exp()\n",
    "    return f(x)\n",
    "\n",
    "def add(x0, x1):\n",
    "    f = Add()\n",
    "    return f(x0, x1)"
   ],
   "metadata": {
    "collapsed": false
   }
  },
  {
   "cell_type": "code",
   "execution_count": 27,
   "outputs": [
    {
     "data": {
      "text/plain": "[2, 0, 1, 4, 2]"
     },
     "execution_count": 27,
     "metadata": {},
     "output_type": "execute_result"
    }
   ],
   "source": [
    "generations = [2, 0, 1, 4, 2]\n",
    "funcs = []\n",
    "\n",
    "for g in generations:\n",
    "    f = Function() # 더미 함수 클래스\n",
    "    f.generation = g\n",
    "    funcs.append(f)\n",
    "\n",
    "[f.generation for f in funcs]"
   ],
   "metadata": {
    "collapsed": false
   }
  },
  {
   "cell_type": "code",
   "execution_count": 28,
   "outputs": [
    {
     "data": {
      "text/plain": "[0, 1, 2, 2, 4]"
     },
     "execution_count": 28,
     "metadata": {},
     "output_type": "execute_result"
    }
   ],
   "source": [
    "funcs.sort(key=lambda x : x.generation) # 리스트 정렬\n",
    "\n",
    "[f.generation for f in funcs]"
   ],
   "metadata": {
    "collapsed": false
   }
  },
  {
   "cell_type": "code",
   "execution_count": 29,
   "outputs": [
    {
     "data": {
      "text/plain": "4"
     },
     "execution_count": 29,
     "metadata": {},
     "output_type": "execute_result"
    }
   ],
   "source": [
    "f = funcs.pop()\n",
    "f.generation"
   ],
   "metadata": {
    "collapsed": false
   }
  },
  {
   "cell_type": "code",
   "execution_count": 30,
   "outputs": [
    {
     "name": "stdout",
     "output_type": "stream",
     "text": [
      "32.0\n",
      "64.0\n"
     ]
    }
   ],
   "source": [
    "x = Variable(np.array(2.0))\n",
    "a = square(x)\n",
    "y = add(square(a), square(a))\n",
    "y.backward()\n",
    "\n",
    "print(y.data)\n",
    "print(x.grad)"
   ],
   "metadata": {
    "collapsed": false
   }
  },
  {
   "cell_type": "code",
   "execution_count": 31,
   "outputs": [],
   "source": [
    "for i in range(10):\n",
    "    x = Variable(np.random.randn(10000)) # 거대한 데이터\n",
    "    y = square(square(square(x))) # 복잡한 계산을 수행한다."
   ],
   "metadata": {
    "collapsed": false
   }
  }
 ],
 "metadata": {
  "kernelspec": {
   "display_name": "Python 3",
   "language": "python",
   "name": "python3"
  },
  "language_info": {
   "codemirror_mode": {
    "name": "ipython",
    "version": 2
   },
   "file_extension": ".py",
   "mimetype": "text/x-python",
   "name": "python",
   "nbconvert_exporter": "python",
   "pygments_lexer": "ipython2",
   "version": "2.7.6"
  }
 },
 "nbformat": 4,
 "nbformat_minor": 0
}
