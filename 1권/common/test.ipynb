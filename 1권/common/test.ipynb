{
 "cells": [
  {
   "cell_type": "code",
   "execution_count": null,
   "metadata": {
    "collapsed": true
   },
   "outputs": [],
   "source": []
  },
  {
   "cell_type": "code",
   "execution_count": 1,
   "outputs": [
    {
     "name": "stdout",
     "output_type": "stream",
     "text": [
      "/opt/miniconda3/envs/hanghae99/lib/python3.10/site-packages/pandas/__init__.py\n"
     ]
    }
   ],
   "source": [
    "\n",
    "import pandas\n",
    "# 간단한 입력 데이터\n",
    "input_data = np.array([1.0, 2.0, 3.0, 4.0])\n",
    "dropout_ratio = 0.5  # 드롭아웃 비율\n",
    "\n",
    "# 훈련 시 드롭아웃 적용 (보정 포함)\n",
    "mask = np.random.rand(*input_data.shape) > dropout_ratio  # 드롭아웃 마스크\n",
    "train_output_corrected = input_data * mask / (1 - dropout_ratio)  # 보정된 출력\n",
    "\n",
    "# 테스트 시: 보정된 훈련 출력을 (1 - dropout_ratio)만큼 줄임\n",
    "test_output_corrected = train_output_corrected * (1 - dropout_ratio)\n",
    "\n",
    "# 데이터 정리\n",
    "df_correction = pd.DataFrame({\n",
    "    'Input': input_data,\n",
    "    'Train Output (Corrected)': train_output_corrected,\n",
    "    'Test Output (Final)': test_output_corrected\n",
    "})\n",
    "\n",
    "tools.display_dataframe_to_user(\"Corrected Dropout Outputs\", df_correction)\n",
    "\n",
    "### **결과 설명**\n",
    "1. **Train Output (Corrected)**:\n",
    "   - 훈련 시 드롭아웃 적용 후 살아남은 출력값이 \\( \\frac{1}{1-p} \\) 배로 스케일링된 값입니다.\n",
    "2. **Test Output (Final)**:\n",
    "   - 테스트 시 훈련 출력을 **\\( (1-p) \\)**만큼 줄여서 평균 출력값 스케일을 맞춘 값입니다.\n",
    "\n",
    "이렇게 하면 훈련 단계와 테스트 단계의 **출력값 평균 스케일**이 일치하게 되어 스케일 불일치 문제가 해결됩니다. 😊"
   ],
   "metadata": {
    "collapsed": false
   }
  }
 ],
 "metadata": {
  "kernelspec": {
   "display_name": "Python 3",
   "language": "python",
   "name": "python3"
  },
  "language_info": {
   "codemirror_mode": {
    "name": "ipython",
    "version": 2
   },
   "file_extension": ".py",
   "mimetype": "text/x-python",
   "name": "python",
   "nbconvert_exporter": "python",
   "pygments_lexer": "ipython2",
   "version": "2.7.6"
  }
 },
 "nbformat": 4,
 "nbformat_minor": 0
}
